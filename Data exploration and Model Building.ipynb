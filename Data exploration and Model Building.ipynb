{
 "cells": [
  {
   "cell_type": "code",
   "execution_count": 54,
   "id": "significant-doctrine",
   "metadata": {},
   "outputs": [],
   "source": [
    "import pandas as pd\n",
    "import numpy as np\n",
    "import matplotlib.pyplot as plt"
   ]
  },
  {
   "cell_type": "code",
   "execution_count": 55,
   "id": "black-stroke",
   "metadata": {},
   "outputs": [
    {
     "data": {
      "text/html": [
       "<div>\n",
       "<style scoped>\n",
       "    .dataframe tbody tr th:only-of-type {\n",
       "        vertical-align: middle;\n",
       "    }\n",
       "\n",
       "    .dataframe tbody tr th {\n",
       "        vertical-align: top;\n",
       "    }\n",
       "\n",
       "    .dataframe thead th {\n",
       "        text-align: right;\n",
       "    }\n",
       "</style>\n",
       "<table border=\"1\" class=\"dataframe\">\n",
       "  <thead>\n",
       "    <tr style=\"text-align: right;\">\n",
       "      <th></th>\n",
       "      <th>enrollee_id</th>\n",
       "      <th>city</th>\n",
       "      <th>city_development_index</th>\n",
       "      <th>gender</th>\n",
       "      <th>relevent_experience</th>\n",
       "      <th>enrolled_university</th>\n",
       "      <th>education_level</th>\n",
       "      <th>major_discipline</th>\n",
       "      <th>experience</th>\n",
       "      <th>company_size</th>\n",
       "      <th>company_type</th>\n",
       "      <th>last_new_job</th>\n",
       "      <th>training_hours</th>\n",
       "      <th>target</th>\n",
       "    </tr>\n",
       "  </thead>\n",
       "  <tbody>\n",
       "    <tr>\n",
       "      <th>0</th>\n",
       "      <td>8949</td>\n",
       "      <td>city_103</td>\n",
       "      <td>0.920</td>\n",
       "      <td>Male</td>\n",
       "      <td>Has relevent experience</td>\n",
       "      <td>no_enrollment</td>\n",
       "      <td>Graduate</td>\n",
       "      <td>STEM</td>\n",
       "      <td>&gt;20</td>\n",
       "      <td>NaN</td>\n",
       "      <td>NaN</td>\n",
       "      <td>1</td>\n",
       "      <td>36</td>\n",
       "      <td>1.0</td>\n",
       "    </tr>\n",
       "    <tr>\n",
       "      <th>1</th>\n",
       "      <td>29725</td>\n",
       "      <td>city_40</td>\n",
       "      <td>0.776</td>\n",
       "      <td>Male</td>\n",
       "      <td>No relevent experience</td>\n",
       "      <td>no_enrollment</td>\n",
       "      <td>Graduate</td>\n",
       "      <td>STEM</td>\n",
       "      <td>15</td>\n",
       "      <td>50-99</td>\n",
       "      <td>Pvt Ltd</td>\n",
       "      <td>&gt;4</td>\n",
       "      <td>47</td>\n",
       "      <td>0.0</td>\n",
       "    </tr>\n",
       "    <tr>\n",
       "      <th>2</th>\n",
       "      <td>11561</td>\n",
       "      <td>city_21</td>\n",
       "      <td>0.624</td>\n",
       "      <td>NaN</td>\n",
       "      <td>No relevent experience</td>\n",
       "      <td>Full time course</td>\n",
       "      <td>Graduate</td>\n",
       "      <td>STEM</td>\n",
       "      <td>5</td>\n",
       "      <td>NaN</td>\n",
       "      <td>NaN</td>\n",
       "      <td>never</td>\n",
       "      <td>83</td>\n",
       "      <td>0.0</td>\n",
       "    </tr>\n",
       "    <tr>\n",
       "      <th>3</th>\n",
       "      <td>33241</td>\n",
       "      <td>city_115</td>\n",
       "      <td>0.789</td>\n",
       "      <td>NaN</td>\n",
       "      <td>No relevent experience</td>\n",
       "      <td>NaN</td>\n",
       "      <td>Graduate</td>\n",
       "      <td>Business Degree</td>\n",
       "      <td>&lt;1</td>\n",
       "      <td>NaN</td>\n",
       "      <td>Pvt Ltd</td>\n",
       "      <td>never</td>\n",
       "      <td>52</td>\n",
       "      <td>1.0</td>\n",
       "    </tr>\n",
       "    <tr>\n",
       "      <th>4</th>\n",
       "      <td>666</td>\n",
       "      <td>city_162</td>\n",
       "      <td>0.767</td>\n",
       "      <td>Male</td>\n",
       "      <td>Has relevent experience</td>\n",
       "      <td>no_enrollment</td>\n",
       "      <td>Masters</td>\n",
       "      <td>STEM</td>\n",
       "      <td>&gt;20</td>\n",
       "      <td>50-99</td>\n",
       "      <td>Funded Startup</td>\n",
       "      <td>4</td>\n",
       "      <td>8</td>\n",
       "      <td>0.0</td>\n",
       "    </tr>\n",
       "  </tbody>\n",
       "</table>\n",
       "</div>"
      ],
      "text/plain": [
       "   enrollee_id      city  city_development_index gender  \\\n",
       "0         8949  city_103                   0.920   Male   \n",
       "1        29725   city_40                   0.776   Male   \n",
       "2        11561   city_21                   0.624    NaN   \n",
       "3        33241  city_115                   0.789    NaN   \n",
       "4          666  city_162                   0.767   Male   \n",
       "\n",
       "       relevent_experience enrolled_university education_level  \\\n",
       "0  Has relevent experience       no_enrollment        Graduate   \n",
       "1   No relevent experience       no_enrollment        Graduate   \n",
       "2   No relevent experience    Full time course        Graduate   \n",
       "3   No relevent experience                 NaN        Graduate   \n",
       "4  Has relevent experience       no_enrollment         Masters   \n",
       "\n",
       "  major_discipline experience company_size    company_type last_new_job  \\\n",
       "0             STEM        >20          NaN             NaN            1   \n",
       "1             STEM         15        50-99         Pvt Ltd           >4   \n",
       "2             STEM          5          NaN             NaN        never   \n",
       "3  Business Degree         <1          NaN         Pvt Ltd        never   \n",
       "4             STEM        >20        50-99  Funded Startup            4   \n",
       "\n",
       "   training_hours  target  \n",
       "0              36     1.0  \n",
       "1              47     0.0  \n",
       "2              83     0.0  \n",
       "3              52     1.0  \n",
       "4               8     0.0  "
      ]
     },
     "execution_count": 55,
     "metadata": {},
     "output_type": "execute_result"
    }
   ],
   "source": [
    "df = pd.read_csv('data/aug_train.csv')\n",
    "df.head()"
   ]
  },
  {
   "cell_type": "code",
   "execution_count": null,
   "id": "described-profit",
   "metadata": {},
   "outputs": [],
   "source": [
    "df.info()"
   ]
  },
  {
   "cell_type": "code",
   "execution_count": null,
   "id": "three-innocent",
   "metadata": {},
   "outputs": [],
   "source": [
    "df.shape"
   ]
  },
  {
   "cell_type": "code",
   "execution_count": 56,
   "id": "ancient-arrangement",
   "metadata": {},
   "outputs": [
    {
     "data": {
      "text/plain": [
       "(19158, 13)"
      ]
     },
     "execution_count": 56,
     "metadata": {},
     "output_type": "execute_result"
    }
   ],
   "source": [
    "df.drop('enrollee_id', axis =1, inplace=True)\n",
    "df.shape"
   ]
  },
  {
   "cell_type": "markdown",
   "id": "taken-turkish",
   "metadata": {},
   "source": [
    "#### Percentage of null values"
   ]
  },
  {
   "cell_type": "code",
   "execution_count": null,
   "id": "upper-prisoner",
   "metadata": {},
   "outputs": [],
   "source": [
    "df.isnull().sum()/df.shape[0]*100"
   ]
  },
  {
   "cell_type": "markdown",
   "id": "armed-humor",
   "metadata": {},
   "source": [
    "# Univariate analysis"
   ]
  },
  {
   "cell_type": "markdown",
   "id": "banned-budget",
   "metadata": {},
   "source": [
    "## Categorical variables"
   ]
  },
  {
   "cell_type": "code",
   "execution_count": null,
   "id": "better-attempt",
   "metadata": {},
   "outputs": [],
   "source": [
    "def bar_plot(variable):\n",
    "    # get feature\n",
    "    var = df[variable]\n",
    "    # count number of categorical variable(value/sample)\n",
    "    varValue = var.value_counts()\n",
    "    \n",
    "    # visualize\n",
    "    plt.figure(figsize = (9,3))\n",
    "    plt.bar(varValue.index, varValue)\n",
    "    plt.xticks(varValue.index, varValue.index.values)\n",
    "    plt.ylabel(\"Frequency\")\n",
    "    plt.title(variable)\n",
    "    plt.show()\n",
    "    print(\"{}:\\n{}\".format(variable,varValue))"
   ]
  },
  {
   "cell_type": "code",
   "execution_count": null,
   "id": "innocent-package",
   "metadata": {},
   "outputs": [],
   "source": [
    "categorical = (df.dtypes == \"object\")\n",
    "categorical_list = list(categorical[categorical].index)\n",
    "\n",
    "print(\"Categorical variables:\")\n",
    "print(categorical_list)"
   ]
  },
  {
   "cell_type": "code",
   "execution_count": null,
   "id": "finished-opera",
   "metadata": {},
   "outputs": [],
   "source": [
    "import seaborn as sns\n",
    "sns.set_style('darkgrid')\n",
    "categorical_variables = ['city', 'gender', 'relevent_experience', 'enrolled_university', 'education_level', 'major_discipline', 'experience', 'company_size', 'company_type', 'last_new_job']\n",
    "for c in categorical_variables:\n",
    "    bar_plot(c)"
   ]
  },
  {
   "cell_type": "markdown",
   "id": "selected-collins",
   "metadata": {},
   "source": [
    "## Numerical variables"
   ]
  },
  {
   "cell_type": "code",
   "execution_count": null,
   "id": "liquid-algorithm",
   "metadata": {},
   "outputs": [],
   "source": [
    "df.info()"
   ]
  },
  {
   "cell_type": "code",
   "execution_count": null,
   "id": "purple-amino",
   "metadata": {},
   "outputs": [],
   "source": [
    "numerical_int64 = (df.dtypes == \"int64\")\n",
    "numerical_int64_list = list(numerical_int64[numerical_int64].index)\n",
    "\n",
    "print(\"Numerical:\")\n",
    "print(numerical_int64_list)"
   ]
  },
  {
   "cell_type": "code",
   "execution_count": null,
   "id": "corrected-neighbor",
   "metadata": {},
   "outputs": [],
   "source": [
    "def plot_hist(variable):\n",
    "    plt.figure(figsize = (9,3))\n",
    "    plt.hist(df[variable], bins = 50)\n",
    "    plt.xlabel(variable)\n",
    "    plt.ylabel(\"Frequency\")\n",
    "    plt.title(\"{} distribution with hist\".format(variable))\n",
    "    plt.show()"
   ]
  },
  {
   "cell_type": "code",
   "execution_count": null,
   "id": "played-ivory",
   "metadata": {},
   "outputs": [],
   "source": [
    "numerical_variables = ['training_hours']\n",
    "for n in numerical_variables:\n",
    "    plot_hist(n)"
   ]
  },
  {
   "cell_type": "code",
   "execution_count": null,
   "id": "seeing-situation",
   "metadata": {},
   "outputs": [],
   "source": [
    "numerical_float64 = (df.dtypes == \"float64\")\n",
    "numerical_float64_list = list(numerical_float64[numerical_float64].index)\n",
    "\n",
    "print(\"Numerical variables:\")\n",
    "print(numerical_float64_list)"
   ]
  },
  {
   "cell_type": "code",
   "execution_count": null,
   "id": "bronze-nylon",
   "metadata": {},
   "outputs": [],
   "source": [
    "def plot_hist(variable):\n",
    "    plt.figure(figsize = (9,3))\n",
    "    plt.hist(df[variable], bins = 50)\n",
    "    plt.xlabel(variable)\n",
    "    plt.ylabel(\"Frequency\")\n",
    "    plt.title(\"{} Distribution with Histogram\".format(variable))\n",
    "    plt.show()"
   ]
  },
  {
   "cell_type": "code",
   "execution_count": null,
   "id": "civic-success",
   "metadata": {},
   "outputs": [],
   "source": [
    "numerical_variables = ['city_development_index', 'target']\n",
    "for n in numerical_variables:\n",
    "    plot_hist(n)"
   ]
  },
  {
   "cell_type": "markdown",
   "id": "respective-saturday",
   "metadata": {},
   "source": [
    "# Multivariate Analysis"
   ]
  },
  {
   "cell_type": "code",
   "execution_count": null,
   "id": "latest-theme",
   "metadata": {},
   "outputs": [],
   "source": [
    "categorical = (df.dtypes == \"object\")\n",
    "categorical_list = list(categorical[categorical].index)\n",
    "\n",
    "print(\"Categorical variables:\")\n",
    "print(categorical_list)"
   ]
  },
  {
   "cell_type": "code",
   "execution_count": null,
   "id": "finished-behalf",
   "metadata": {},
   "outputs": [],
   "source": [
    "def x_vs_target(variable):\n",
    "    return df[[variable,\"target\"]].groupby([variable], as_index = False).mean().sort_values(by=\"target\",ascending = False)"
   ]
  },
  {
   "cell_type": "code",
   "execution_count": null,
   "id": "mechanical-examination",
   "metadata": {},
   "outputs": [],
   "source": [
    "variables = ['city', 'gender', 'relevent_experience', 'enrolled_university', 'education_level', 'major_discipline', 'experience', 'company_size', 'company_type', 'last_new_job']\n",
    "for i in variables:\n",
    "    print(f\"\\033[1m{i} vs target\\033[0m \\n\")\n",
    "    print(f\"Unique {i} count\")\n",
    "    print(df[i].value_counts())\n",
    "    print()\n",
    "    print(x_vs_target(i))\n",
    "    print(\"==================================\\n\\n\\n\")"
   ]
  },
  {
   "cell_type": "markdown",
   "id": "sorted-toyota",
   "metadata": {},
   "source": [
    "## Correlation between numeric values"
   ]
  },
  {
   "cell_type": "code",
   "execution_count": null,
   "id": "frozen-trail",
   "metadata": {},
   "outputs": [],
   "source": [
    "plt.figure(figsize=(12,8)) \n",
    "sns.heatmap(df.corr(), annot=True, cmap='Dark2_r', linewidths = 2)\n",
    "plt.show()"
   ]
  },
  {
   "cell_type": "markdown",
   "id": "defensive-cause",
   "metadata": {},
   "source": [
    "# Preprocessing Data"
   ]
  },
  {
   "cell_type": "markdown",
   "id": "accessory-distributor",
   "metadata": {},
   "source": [
    "### Filling null value"
   ]
  },
  {
   "cell_type": "code",
   "execution_count": null,
   "id": "urban-baker",
   "metadata": {},
   "outputs": [],
   "source": [
    "df.info()"
   ]
  },
  {
   "cell_type": "code",
   "execution_count": 57,
   "id": "improved-broadcasting",
   "metadata": {},
   "outputs": [
    {
     "data": {
      "text/plain": [
       "(19158, 12)"
      ]
     },
     "execution_count": 57,
     "metadata": {},
     "output_type": "execute_result"
    }
   ],
   "source": [
    "df.drop('gender', axis =1, inplace=True)\n",
    "df.shape"
   ]
  },
  {
   "cell_type": "code",
   "execution_count": null,
   "id": "placed-sphere",
   "metadata": {},
   "outputs": [],
   "source": [
    "df.info()"
   ]
  },
  {
   "cell_type": "code",
   "execution_count": null,
   "id": "suitable-flash",
   "metadata": {},
   "outputs": [],
   "source": [
    "df.isnull().sum()/df.shape[0]*100"
   ]
  },
  {
   "cell_type": "code",
   "execution_count": null,
   "id": "caring-mongolia",
   "metadata": {},
   "outputs": [],
   "source": [
    "df.company_size.value_counts()"
   ]
  },
  {
   "cell_type": "code",
   "execution_count": 58,
   "id": "domestic-stability",
   "metadata": {},
   "outputs": [
    {
     "data": {
      "text/plain": [
       "(19158, 11)"
      ]
     },
     "execution_count": 58,
     "metadata": {},
     "output_type": "execute_result"
    }
   ],
   "source": [
    "df.drop('company_size', axis =1, inplace=True)\n",
    "df.shape"
   ]
  },
  {
   "cell_type": "code",
   "execution_count": null,
   "id": "incorporate-application",
   "metadata": {},
   "outputs": [],
   "source": [
    "df.isnull().sum()/df.shape[0]*100"
   ]
  },
  {
   "cell_type": "code",
   "execution_count": null,
   "id": "different-repeat",
   "metadata": {},
   "outputs": [],
   "source": [
    "19158*0.32"
   ]
  },
  {
   "cell_type": "code",
   "execution_count": 59,
   "id": "dental-space",
   "metadata": {},
   "outputs": [],
   "source": [
    "df['company_type'].fillna(df['company_type'].mode()[0], inplace=True)"
   ]
  },
  {
   "cell_type": "code",
   "execution_count": null,
   "id": "aware-training",
   "metadata": {},
   "outputs": [],
   "source": [
    "df.shape"
   ]
  },
  {
   "cell_type": "code",
   "execution_count": null,
   "id": "agreed-definition",
   "metadata": {},
   "outputs": [],
   "source": [
    "df.isnull().sum()/df.shape[0]*100"
   ]
  },
  {
   "cell_type": "code",
   "execution_count": 60,
   "id": "lasting-massage",
   "metadata": {},
   "outputs": [
    {
     "data": {
      "text/plain": [
       "city                      0.000000\n",
       "city_development_index    0.000000\n",
       "relevent_experience       0.000000\n",
       "enrolled_university       2.014824\n",
       "education_level           2.401086\n",
       "major_discipline          0.000000\n",
       "experience                0.339284\n",
       "company_type              0.000000\n",
       "last_new_job              2.207955\n",
       "training_hours            0.000000\n",
       "target                    0.000000\n",
       "dtype: float64"
      ]
     },
     "execution_count": 60,
     "metadata": {},
     "output_type": "execute_result"
    }
   ],
   "source": [
    "df['major_discipline'].fillna(df['major_discipline'].mode()[0], inplace=True)\n",
    "df.isnull().sum()/df.shape[0]*100"
   ]
  },
  {
   "cell_type": "code",
   "execution_count": null,
   "id": "filled-society",
   "metadata": {},
   "outputs": [],
   "source": [
    "df.shape"
   ]
  },
  {
   "cell_type": "code",
   "execution_count": 61,
   "id": "charitable-gauge",
   "metadata": {},
   "outputs": [
    {
     "data": {
      "text/plain": [
       "city                      0.0\n",
       "city_development_index    0.0\n",
       "relevent_experience       0.0\n",
       "enrolled_university       0.0\n",
       "education_level           0.0\n",
       "major_discipline          0.0\n",
       "experience                0.0\n",
       "company_type              0.0\n",
       "last_new_job              0.0\n",
       "training_hours            0.0\n",
       "target                    0.0\n",
       "dtype: float64"
      ]
     },
     "execution_count": 61,
     "metadata": {},
     "output_type": "execute_result"
    }
   ],
   "source": [
    "df['enrolled_university'].fillna(df['enrolled_university'].mode()[0], inplace=True)\n",
    "df['education_level'].fillna(df['education_level'].mode()[0], inplace=True)\n",
    "df['experience'].fillna(df['experience'].mode()[0], inplace=True)\n",
    "df['last_new_job'].fillna(df['last_new_job'].mode()[0], inplace=True)\n",
    "df.isnull().sum()/df.shape[0]*100"
   ]
  },
  {
   "cell_type": "code",
   "execution_count": null,
   "id": "similar-dominant",
   "metadata": {},
   "outputs": [],
   "source": [
    "df.shape"
   ]
  },
  {
   "cell_type": "code",
   "execution_count": null,
   "id": "adaptive-forestry",
   "metadata": {},
   "outputs": [],
   "source": [
    "df.head().T"
   ]
  },
  {
   "cell_type": "code",
   "execution_count": 62,
   "id": "threatened-terrain",
   "metadata": {},
   "outputs": [
    {
     "name": "stdout",
     "output_type": "stream",
     "text": [
      "Categorical variables:\n",
      "['city', 'relevent_experience', 'enrolled_university', 'education_level', 'major_discipline', 'experience', 'company_type', 'last_new_job']\n"
     ]
    }
   ],
   "source": [
    "categorical = (df.dtypes == \"object\")\n",
    "categorical_list = list(categorical[categorical].index)\n",
    "\n",
    "print(\"Categorical variables:\")\n",
    "print(categorical_list)"
   ]
  },
  {
   "cell_type": "code",
   "execution_count": 63,
   "id": "exciting-things",
   "metadata": {},
   "outputs": [
    {
     "name": "stdout",
     "output_type": "stream",
     "text": [
      "Total categorical variables with each unique value  173\n"
     ]
    }
   ],
   "source": [
    "total = 0\n",
    "for i in categorical_list:\n",
    "    count = df[i].value_counts().shape[0]\n",
    "    total = total+count\n",
    "print(\"Total categorical variables with each unique value \", total)"
   ]
  },
  {
   "cell_type": "code",
   "execution_count": 64,
   "id": "involved-fountain",
   "metadata": {},
   "outputs": [
    {
     "name": "stdout",
     "output_type": "stream",
     "text": [
      "Total categorical variables with each unique value  50\n"
     ]
    }
   ],
   "source": [
    "total = 0\n",
    "for i in categorical_list:\n",
    "    if i!='city':\n",
    "        count = df[i].value_counts().shape[0]\n",
    "        total = total+count\n",
    "print(\"Total categorical variables with each unique value \", total)"
   ]
  },
  {
   "cell_type": "markdown",
   "id": "round-cliff",
   "metadata": {},
   "source": [
    "#### Let's deal with city | Handling dimentionality problems"
   ]
  },
  {
   "cell_type": "code",
   "execution_count": 65,
   "id": "forty-equity",
   "metadata": {},
   "outputs": [
    {
     "data": {
      "text/plain": [
       "city\n",
       "city_103    4355\n",
       "city_21     2702\n",
       "city_16     1533\n",
       "city_114    1336\n",
       "city_160     845\n",
       "city_136     586\n",
       "city_67      431\n",
       "city_75      305\n",
       "city_102     304\n",
       "city_104     301\n",
       "city_73      280\n",
       "city_100     275\n",
       "city_71      266\n",
       "city_11      247\n",
       "city_90      197\n",
       "city_61      197\n",
       "city_28      192\n",
       "city_23      182\n",
       "city_65      175\n",
       "city_36      160\n",
       "Name: city, dtype: int64"
      ]
     },
     "execution_count": 65,
     "metadata": {},
     "output_type": "execute_result"
    }
   ],
   "source": [
    "cities = df.groupby('city')['city'].agg('count').sort_values(ascending=False)\n",
    "cities.head(20)"
   ]
  },
  {
   "cell_type": "code",
   "execution_count": null,
   "id": "suburban-arnold",
   "metadata": {},
   "outputs": [],
   "source": [
    "len(cities[cities <= 20])"
   ]
  },
  {
   "cell_type": "markdown",
   "id": "compressed-madagascar",
   "metadata": {},
   "source": [
    "**If there are location which count less than 20, make them other category**"
   ]
  },
  {
   "cell_type": "code",
   "execution_count": 66,
   "id": "broken-prison",
   "metadata": {},
   "outputs": [
    {
     "data": {
      "text/plain": [
       "city\n",
       "city_127    10\n",
       "city_59     10\n",
       "city_167    10\n",
       "city_133    10\n",
       "city_109     9\n",
       "city_106     9\n",
       "city_131     9\n",
       "city_146     8\n",
       "city_79      8\n",
       "city_81      7\n",
       "city_2       7\n",
       "city_180     7\n",
       "city_107     6\n",
       "city_120     6\n",
       "city_139     5\n",
       "city_62      5\n",
       "city_179     5\n",
       "city_82      4\n",
       "city_25      4\n",
       "city_8       4\n",
       "city_166     4\n",
       "city_31      4\n",
       "city_18      4\n",
       "city_111     3\n",
       "city_129     3\n",
       "city_121     3\n",
       "city_171     1\n",
       "city_140     1\n",
       "Name: city, dtype: int64"
      ]
     },
     "execution_count": 66,
     "metadata": {},
     "output_type": "execute_result"
    }
   ],
   "source": [
    "cities_20 = cities[cities <= 10]\n",
    "cities_20 "
   ]
  },
  {
   "cell_type": "code",
   "execution_count": null,
   "id": "pleasant-blend",
   "metadata": {},
   "outputs": [],
   "source": [
    "len(df.city.unique())"
   ]
  },
  {
   "cell_type": "code",
   "execution_count": 67,
   "id": "secondary-education",
   "metadata": {},
   "outputs": [
    {
     "data": {
      "text/plain": [
       "96"
      ]
     },
     "execution_count": 67,
     "metadata": {},
     "output_type": "execute_result"
    }
   ],
   "source": [
    "df.city = df.city.apply(lambda x: 'other' if x in cities_20 else x)\n",
    "len(df.city.unique())"
   ]
  },
  {
   "cell_type": "markdown",
   "id": "functional-ceramic",
   "metadata": {},
   "source": [
    "## Create dummies [one hot encoding]"
   ]
  },
  {
   "cell_type": "code",
   "execution_count": null,
   "id": "split-working",
   "metadata": {},
   "outputs": [],
   "source": [
    "df.info()"
   ]
  },
  {
   "cell_type": "code",
   "execution_count": 68,
   "id": "celtic-compatibility",
   "metadata": {},
   "outputs": [
    {
     "data": {
      "text/html": [
       "<div>\n",
       "<style scoped>\n",
       "    .dataframe tbody tr th:only-of-type {\n",
       "        vertical-align: middle;\n",
       "    }\n",
       "\n",
       "    .dataframe tbody tr th {\n",
       "        vertical-align: top;\n",
       "    }\n",
       "\n",
       "    .dataframe thead th {\n",
       "        text-align: right;\n",
       "    }\n",
       "</style>\n",
       "<table border=\"1\" class=\"dataframe\">\n",
       "  <thead>\n",
       "    <tr style=\"text-align: right;\">\n",
       "      <th></th>\n",
       "      <th>city_development_index</th>\n",
       "      <th>training_hours</th>\n",
       "      <th>target</th>\n",
       "      <th>city_city_1</th>\n",
       "      <th>city_city_10</th>\n",
       "      <th>city_city_100</th>\n",
       "      <th>city_city_101</th>\n",
       "      <th>city_city_102</th>\n",
       "      <th>city_city_103</th>\n",
       "      <th>city_city_104</th>\n",
       "      <th>...</th>\n",
       "      <th>company_type_NGO</th>\n",
       "      <th>company_type_Other</th>\n",
       "      <th>company_type_Public Sector</th>\n",
       "      <th>company_type_Pvt Ltd</th>\n",
       "      <th>last_new_job_1</th>\n",
       "      <th>last_new_job_2</th>\n",
       "      <th>last_new_job_3</th>\n",
       "      <th>last_new_job_4</th>\n",
       "      <th>last_new_job_&gt;4</th>\n",
       "      <th>last_new_job_never</th>\n",
       "    </tr>\n",
       "  </thead>\n",
       "  <tbody>\n",
       "    <tr>\n",
       "      <th>0</th>\n",
       "      <td>0.920</td>\n",
       "      <td>36</td>\n",
       "      <td>1.0</td>\n",
       "      <td>0</td>\n",
       "      <td>0</td>\n",
       "      <td>0</td>\n",
       "      <td>0</td>\n",
       "      <td>0</td>\n",
       "      <td>1</td>\n",
       "      <td>0</td>\n",
       "      <td>...</td>\n",
       "      <td>0</td>\n",
       "      <td>0</td>\n",
       "      <td>0</td>\n",
       "      <td>1</td>\n",
       "      <td>1</td>\n",
       "      <td>0</td>\n",
       "      <td>0</td>\n",
       "      <td>0</td>\n",
       "      <td>0</td>\n",
       "      <td>0</td>\n",
       "    </tr>\n",
       "    <tr>\n",
       "      <th>1</th>\n",
       "      <td>0.776</td>\n",
       "      <td>47</td>\n",
       "      <td>0.0</td>\n",
       "      <td>0</td>\n",
       "      <td>0</td>\n",
       "      <td>0</td>\n",
       "      <td>0</td>\n",
       "      <td>0</td>\n",
       "      <td>0</td>\n",
       "      <td>0</td>\n",
       "      <td>...</td>\n",
       "      <td>0</td>\n",
       "      <td>0</td>\n",
       "      <td>0</td>\n",
       "      <td>1</td>\n",
       "      <td>0</td>\n",
       "      <td>0</td>\n",
       "      <td>0</td>\n",
       "      <td>0</td>\n",
       "      <td>1</td>\n",
       "      <td>0</td>\n",
       "    </tr>\n",
       "    <tr>\n",
       "      <th>2</th>\n",
       "      <td>0.624</td>\n",
       "      <td>83</td>\n",
       "      <td>0.0</td>\n",
       "      <td>0</td>\n",
       "      <td>0</td>\n",
       "      <td>0</td>\n",
       "      <td>0</td>\n",
       "      <td>0</td>\n",
       "      <td>0</td>\n",
       "      <td>0</td>\n",
       "      <td>...</td>\n",
       "      <td>0</td>\n",
       "      <td>0</td>\n",
       "      <td>0</td>\n",
       "      <td>1</td>\n",
       "      <td>0</td>\n",
       "      <td>0</td>\n",
       "      <td>0</td>\n",
       "      <td>0</td>\n",
       "      <td>0</td>\n",
       "      <td>1</td>\n",
       "    </tr>\n",
       "  </tbody>\n",
       "</table>\n",
       "<p>3 rows × 149 columns</p>\n",
       "</div>"
      ],
      "text/plain": [
       "   city_development_index  training_hours  target  city_city_1  city_city_10  \\\n",
       "0                   0.920              36     1.0            0             0   \n",
       "1                   0.776              47     0.0            0             0   \n",
       "2                   0.624              83     0.0            0             0   \n",
       "\n",
       "   city_city_100  city_city_101  city_city_102  city_city_103  city_city_104  \\\n",
       "0              0              0              0              1              0   \n",
       "1              0              0              0              0              0   \n",
       "2              0              0              0              0              0   \n",
       "\n",
       "   ...  company_type_NGO  company_type_Other  company_type_Public Sector  \\\n",
       "0  ...                 0                   0                           0   \n",
       "1  ...                 0                   0                           0   \n",
       "2  ...                 0                   0                           0   \n",
       "\n",
       "   company_type_Pvt Ltd  last_new_job_1  last_new_job_2  last_new_job_3  \\\n",
       "0                     1               1               0               0   \n",
       "1                     1               0               0               0   \n",
       "2                     1               0               0               0   \n",
       "\n",
       "   last_new_job_4  last_new_job_>4  last_new_job_never  \n",
       "0               0                0                   0  \n",
       "1               0                1                   0  \n",
       "2               0                0                   1  \n",
       "\n",
       "[3 rows x 149 columns]"
      ]
     },
     "execution_count": 68,
     "metadata": {},
     "output_type": "execute_result"
    }
   ],
   "source": [
    "dummies = pd.get_dummies(df)\n",
    "dummies.head(3)"
   ]
  },
  {
   "cell_type": "markdown",
   "id": "hairy-elizabeth",
   "metadata": {},
   "source": [
    "# Building Model"
   ]
  },
  {
   "cell_type": "code",
   "execution_count": 69,
   "id": "amber-stephen",
   "metadata": {},
   "outputs": [
    {
     "data": {
      "text/html": [
       "<div>\n",
       "<style scoped>\n",
       "    .dataframe tbody tr th:only-of-type {\n",
       "        vertical-align: middle;\n",
       "    }\n",
       "\n",
       "    .dataframe tbody tr th {\n",
       "        vertical-align: top;\n",
       "    }\n",
       "\n",
       "    .dataframe thead th {\n",
       "        text-align: right;\n",
       "    }\n",
       "</style>\n",
       "<table border=\"1\" class=\"dataframe\">\n",
       "  <thead>\n",
       "    <tr style=\"text-align: right;\">\n",
       "      <th></th>\n",
       "      <th>city_development_index</th>\n",
       "      <th>training_hours</th>\n",
       "      <th>city_city_1</th>\n",
       "      <th>city_city_10</th>\n",
       "      <th>city_city_100</th>\n",
       "      <th>city_city_101</th>\n",
       "      <th>city_city_102</th>\n",
       "      <th>city_city_103</th>\n",
       "      <th>city_city_104</th>\n",
       "      <th>city_city_105</th>\n",
       "      <th>...</th>\n",
       "      <th>company_type_NGO</th>\n",
       "      <th>company_type_Other</th>\n",
       "      <th>company_type_Public Sector</th>\n",
       "      <th>company_type_Pvt Ltd</th>\n",
       "      <th>last_new_job_1</th>\n",
       "      <th>last_new_job_2</th>\n",
       "      <th>last_new_job_3</th>\n",
       "      <th>last_new_job_4</th>\n",
       "      <th>last_new_job_&gt;4</th>\n",
       "      <th>last_new_job_never</th>\n",
       "    </tr>\n",
       "  </thead>\n",
       "  <tbody>\n",
       "    <tr>\n",
       "      <th>0</th>\n",
       "      <td>0.920</td>\n",
       "      <td>36</td>\n",
       "      <td>0</td>\n",
       "      <td>0</td>\n",
       "      <td>0</td>\n",
       "      <td>0</td>\n",
       "      <td>0</td>\n",
       "      <td>1</td>\n",
       "      <td>0</td>\n",
       "      <td>0</td>\n",
       "      <td>...</td>\n",
       "      <td>0</td>\n",
       "      <td>0</td>\n",
       "      <td>0</td>\n",
       "      <td>1</td>\n",
       "      <td>1</td>\n",
       "      <td>0</td>\n",
       "      <td>0</td>\n",
       "      <td>0</td>\n",
       "      <td>0</td>\n",
       "      <td>0</td>\n",
       "    </tr>\n",
       "    <tr>\n",
       "      <th>1</th>\n",
       "      <td>0.776</td>\n",
       "      <td>47</td>\n",
       "      <td>0</td>\n",
       "      <td>0</td>\n",
       "      <td>0</td>\n",
       "      <td>0</td>\n",
       "      <td>0</td>\n",
       "      <td>0</td>\n",
       "      <td>0</td>\n",
       "      <td>0</td>\n",
       "      <td>...</td>\n",
       "      <td>0</td>\n",
       "      <td>0</td>\n",
       "      <td>0</td>\n",
       "      <td>1</td>\n",
       "      <td>0</td>\n",
       "      <td>0</td>\n",
       "      <td>0</td>\n",
       "      <td>0</td>\n",
       "      <td>1</td>\n",
       "      <td>0</td>\n",
       "    </tr>\n",
       "    <tr>\n",
       "      <th>2</th>\n",
       "      <td>0.624</td>\n",
       "      <td>83</td>\n",
       "      <td>0</td>\n",
       "      <td>0</td>\n",
       "      <td>0</td>\n",
       "      <td>0</td>\n",
       "      <td>0</td>\n",
       "      <td>0</td>\n",
       "      <td>0</td>\n",
       "      <td>0</td>\n",
       "      <td>...</td>\n",
       "      <td>0</td>\n",
       "      <td>0</td>\n",
       "      <td>0</td>\n",
       "      <td>1</td>\n",
       "      <td>0</td>\n",
       "      <td>0</td>\n",
       "      <td>0</td>\n",
       "      <td>0</td>\n",
       "      <td>0</td>\n",
       "      <td>1</td>\n",
       "    </tr>\n",
       "  </tbody>\n",
       "</table>\n",
       "<p>3 rows × 148 columns</p>\n",
       "</div>"
      ],
      "text/plain": [
       "   city_development_index  training_hours  city_city_1  city_city_10  \\\n",
       "0                   0.920              36            0             0   \n",
       "1                   0.776              47            0             0   \n",
       "2                   0.624              83            0             0   \n",
       "\n",
       "   city_city_100  city_city_101  city_city_102  city_city_103  city_city_104  \\\n",
       "0              0              0              0              1              0   \n",
       "1              0              0              0              0              0   \n",
       "2              0              0              0              0              0   \n",
       "\n",
       "   city_city_105  ...  company_type_NGO  company_type_Other  \\\n",
       "0              0  ...                 0                   0   \n",
       "1              0  ...                 0                   0   \n",
       "2              0  ...                 0                   0   \n",
       "\n",
       "   company_type_Public Sector  company_type_Pvt Ltd  last_new_job_1  \\\n",
       "0                           0                     1               1   \n",
       "1                           0                     1               0   \n",
       "2                           0                     1               0   \n",
       "\n",
       "   last_new_job_2  last_new_job_3  last_new_job_4  last_new_job_>4  \\\n",
       "0               0               0               0                0   \n",
       "1               0               0               0                1   \n",
       "2               0               0               0                0   \n",
       "\n",
       "   last_new_job_never  \n",
       "0                   0  \n",
       "1                   0  \n",
       "2                   1  \n",
       "\n",
       "[3 rows x 148 columns]"
      ]
     },
     "execution_count": 69,
     "metadata": {},
     "output_type": "execute_result"
    }
   ],
   "source": [
    "X = dummies.drop(['target'],axis='columns')\n",
    "X.head(3)"
   ]
  },
  {
   "cell_type": "code",
   "execution_count": 70,
   "id": "civil-employment",
   "metadata": {},
   "outputs": [],
   "source": [
    "y = dummies['target']"
   ]
  },
  {
   "cell_type": "code",
   "execution_count": 71,
   "id": "sound-reverse",
   "metadata": {},
   "outputs": [],
   "source": [
    "from sklearn.model_selection import train_test_split\n",
    "X_train, X_test, y_train, y_test = train_test_split(X,y,test_size=0.2,random_state=10)"
   ]
  },
  {
   "cell_type": "code",
   "execution_count": 72,
   "id": "charitable-input",
   "metadata": {},
   "outputs": [
    {
     "data": {
      "text/plain": [
       "((15326, 148), (3832, 148))"
      ]
     },
     "execution_count": 72,
     "metadata": {},
     "output_type": "execute_result"
    }
   ],
   "source": [
    "X_train.shape, X_test.shape"
   ]
  },
  {
   "cell_type": "code",
   "execution_count": 73,
   "id": "broken-constitution",
   "metadata": {},
   "outputs": [
    {
     "data": {
      "text/plain": [
       "(15326,)"
      ]
     },
     "execution_count": 73,
     "metadata": {},
     "output_type": "execute_result"
    }
   ],
   "source": [
    "y_train.shape"
   ]
  },
  {
   "cell_type": "code",
   "execution_count": 74,
   "id": "constitutional-ratio",
   "metadata": {},
   "outputs": [
    {
     "data": {
      "text/plain": [
       "(3832,)"
      ]
     },
     "execution_count": 74,
     "metadata": {},
     "output_type": "execute_result"
    }
   ],
   "source": [
    "y_test.shape"
   ]
  },
  {
   "cell_type": "code",
   "execution_count": 75,
   "id": "individual-flash",
   "metadata": {},
   "outputs": [
    {
     "name": "stderr",
     "output_type": "stream",
     "text": [
      "/Users/saimislam/miniforge3/envs/tf24/lib/python3.8/site-packages/sklearn/linear_model/_logistic.py:763: ConvergenceWarning: lbfgs failed to converge (status=1):\n",
      "STOP: TOTAL NO. of ITERATIONS REACHED LIMIT.\n",
      "\n",
      "Increase the number of iterations (max_iter) or scale the data as shown in:\n",
      "    https://scikit-learn.org/stable/modules/preprocessing.html\n",
      "Please also refer to the documentation for alternative solver options:\n",
      "    https://scikit-learn.org/stable/modules/linear_model.html#logistic-regression\n",
      "  n_iter_i = _check_optimize_result(\n"
     ]
    },
    {
     "data": {
      "text/plain": [
       "0.7753131524008351"
      ]
     },
     "execution_count": 75,
     "metadata": {},
     "output_type": "execute_result"
    }
   ],
   "source": [
    "from sklearn.linear_model import LogisticRegression\n",
    "log_clf = LogisticRegression()\n",
    "log_clf.fit(X_train,y_train)\n",
    "log_clf.score(X_test,y_test)"
   ]
  },
  {
   "cell_type": "code",
   "execution_count": 79,
   "id": "legal-cardiff",
   "metadata": {},
   "outputs": [
    {
     "data": {
      "text/plain": [
       "0.0"
      ]
     },
     "execution_count": 79,
     "metadata": {},
     "output_type": "execute_result"
    }
   ],
   "source": [
    "log_clf.predict(X_test)[40]"
   ]
  },
  {
   "cell_type": "code",
   "execution_count": 80,
   "id": "renewable-seattle",
   "metadata": {},
   "outputs": [
    {
     "data": {
      "text/plain": [
       "0.0"
      ]
     },
     "execution_count": 80,
     "metadata": {},
     "output_type": "execute_result"
    }
   ],
   "source": [
    "np.array(y_test)[40]"
   ]
  },
  {
   "cell_type": "code",
   "execution_count": 89,
   "id": "athletic-zimbabwe",
   "metadata": {},
   "outputs": [
    {
     "name": "stdout",
     "output_type": "stream",
     "text": [
      "              precision    recall  f1-score   support\n",
      "\n",
      "         0.0       0.92      0.81      0.86      3306\n",
      "         1.0       0.32      0.56      0.41       526\n",
      "\n",
      "    accuracy                           0.78      3832\n",
      "   macro avg       0.62      0.69      0.63      3832\n",
      "weighted avg       0.84      0.78      0.80      3832\n",
      "\n"
     ]
    }
   ],
   "source": [
    "from sklearn.metrics import classification_report\n",
    "print(classification_report(log_clf.predict(X_test),y_test))"
   ]
  },
  {
   "cell_type": "code",
   "execution_count": null,
   "id": "outstanding-eugene",
   "metadata": {},
   "outputs": [],
   "source": []
  },
  {
   "cell_type": "code",
   "execution_count": null,
   "id": "acoustic-fiber",
   "metadata": {},
   "outputs": [],
   "source": []
  },
  {
   "cell_type": "markdown",
   "id": "offensive-yemen",
   "metadata": {},
   "source": [
    "### Saving to run more models"
   ]
  },
  {
   "cell_type": "code",
   "execution_count": 83,
   "id": "attached-aircraft",
   "metadata": {},
   "outputs": [],
   "source": [
    "dummies.to_csv('./data/preprocessed_data_for_model_building.csv')"
   ]
  },
  {
   "cell_type": "code",
   "execution_count": 84,
   "id": "voluntary-village",
   "metadata": {},
   "outputs": [],
   "source": [
    "data = pd.read_csv('data/preprocessed_data_for_model_building.csv')"
   ]
  },
  {
   "cell_type": "code",
   "execution_count": 85,
   "id": "suspected-track",
   "metadata": {},
   "outputs": [],
   "source": [
    "from sklearn.model_selection import train_test_split\n",
    "X_train, X_test, y_train, y_test = train_test_split(X,y,test_size=0.2,random_state=10)"
   ]
  },
  {
   "cell_type": "code",
   "execution_count": 86,
   "id": "interesting-feeling",
   "metadata": {},
   "outputs": [],
   "source": [
    "from sklearn.ensemble import RandomForestClassifier"
   ]
  },
  {
   "cell_type": "code",
   "execution_count": 87,
   "id": "behind-football",
   "metadata": {},
   "outputs": [
    {
     "data": {
      "text/plain": [
       "RandomForestClassifier(max_depth=2, random_state=0)"
      ]
     },
     "execution_count": 87,
     "metadata": {},
     "output_type": "execute_result"
    }
   ],
   "source": [
    "clf = RandomForestClassifier(max_depth=2, random_state=0)\n",
    "clf.fit(X_train, y_train)"
   ]
  },
  {
   "cell_type": "code",
   "execution_count": 88,
   "id": "abstract-tiger",
   "metadata": {},
   "outputs": [
    {
     "data": {
      "text/plain": [
       "0.7575678496868476"
      ]
     },
     "execution_count": 88,
     "metadata": {},
     "output_type": "execute_result"
    }
   ],
   "source": [
    "clf.score(X_test,y_test)"
   ]
  },
  {
   "cell_type": "code",
   "execution_count": null,
   "id": "independent-rebecca",
   "metadata": {},
   "outputs": [],
   "source": []
  }
 ],
 "metadata": {
  "kernelspec": {
   "display_name": "Python 3",
   "language": "python",
   "name": "python3"
  },
  "language_info": {
   "codemirror_mode": {
    "name": "ipython",
    "version": 3
   },
   "file_extension": ".py",
   "mimetype": "text/x-python",
   "name": "python",
   "nbconvert_exporter": "python",
   "pygments_lexer": "ipython3",
   "version": "3.8.6"
  }
 },
 "nbformat": 4,
 "nbformat_minor": 5
}
